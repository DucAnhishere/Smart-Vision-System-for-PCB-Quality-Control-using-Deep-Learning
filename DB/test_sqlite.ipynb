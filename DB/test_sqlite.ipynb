{
 "cells": [
  {
   "cell_type": "code",
   "execution_count": 3,
   "metadata": {},
   "outputs": [],
   "source": [
    "import sqlite3\n",
    "con = sqlite3.connect(\"test.db\")\n",
    "cursor = con.cursor()"
   ]
  },
  {
   "cell_type": "code",
   "execution_count": 42,
   "metadata": {},
   "outputs": [
    {
     "data": {
      "text/plain": [
       "<sqlite3.Cursor at 0x7f099140e6c0>"
      ]
     },
     "execution_count": 42,
     "metadata": {},
     "output_type": "execute_result"
    }
   ],
   "source": [
    "table = \"\"\"CREATE TABLE IF NOT EXISTS PRODUCTS(\n",
    "            Name VARCHAR(255) NOT NULL,\n",
    "            Barcode VARCHAR(255) NOT NULL,\n",
    "            Condition VARCHAR(255) NOT NULL\n",
    "        )\"\"\"\n",
    "cursor.execute(table)"
   ]
  },
  {
   "cell_type": "code",
   "execution_count": 6,
   "metadata": {},
   "outputs": [
    {
     "data": {
      "text/plain": [
       "<sqlite3.Cursor at 0x7fb849b60d40>"
      ]
     },
     "execution_count": 6,
     "metadata": {},
     "output_type": "execute_result"
    }
   ],
   "source": [
    "cursor.execute('''INSERT INTO PRODUCTS VALUES ('img1', '1001', 'Bridge')''') \n",
    "cursor.execute('''INSERT INTO PRODUCTS VALUES ('img2', '1111', 'Lifted')''') \n",
    "cursor.execute('''INSERT INTO PRODUCTS VALUES ('img3', '0001', 'Miss')''') \n"
   ]
  },
  {
   "cell_type": "code",
   "execution_count": 7,
   "metadata": {},
   "outputs": [
    {
     "name": "stdout",
     "output_type": "stream",
     "text": [
      "('img1', '1001', 'Bridge')\n",
      "('img2', '1111', 'Lifted')\n",
      "('img3', '0001', 'Miss')\n"
     ]
    }
   ],
   "source": [
    "data = cursor.execute('''SELECT * FROM PRODUCTS''')\n",
    "for row in data:\n",
    "    print(row)"
   ]
  },
  {
   "cell_type": "code",
   "execution_count": 8,
   "metadata": {},
   "outputs": [],
   "source": [
    "con.commit()"
   ]
  }
 ],
 "metadata": {
  "kernelspec": {
   "display_name": "DATN",
   "language": "python",
   "name": "python3"
  },
  "language_info": {
   "codemirror_mode": {
    "name": "ipython",
    "version": 3
   },
   "file_extension": ".py",
   "mimetype": "text/x-python",
   "name": "python",
   "nbconvert_exporter": "python",
   "pygments_lexer": "ipython3",
   "version": "3.13.2"
  }
 },
 "nbformat": 4,
 "nbformat_minor": 2
}
